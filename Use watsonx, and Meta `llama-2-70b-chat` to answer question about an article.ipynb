{
  "cells": [
    {
      "cell_type": "markdown",
      "metadata": {
        "pycharm": {
          "name": "#%% md\n"
        },
        "id": "Kyia9ICIkl5l"
      },
      "source": [
        "![image](https://raw.githubusercontent.com/IBM/watson-machine-learning-samples/master/cloud/notebooks/headers/watsonx-Prompt_Lab-Notebook.png)\n",
        "# Use watsonx, and Meta `llama-2-70b-chat` to answer question about an article"
      ]
    },
    {
      "cell_type": "markdown",
      "metadata": {
        "pycharm": {
          "name": "#%% md\n"
        },
        "id": "ZrEVWb2Zkl5n"
      },
      "source": [
        "#### Disclaimers\n",
        "\n",
        "- Use only Projects and Spaces that are available in watsonx context.\n",
        "\n",
        "\n",
        "## Notebook content\n",
        "\n",
        "This notebook contains the steps and code to demonstrate support for question answering in watsonx. It introduces commands for defining prompt and model testing.\n",
        "\n",
        "Some familiarity with Python is helpful. This notebook uses Python 3.10.\n",
        "\n",
        "\n",
        "## Learning goal\n",
        "\n",
        "The goal of this notebook is to demonstrate how to use `llama-2-70b-chat` model to answer question about provided article.\n",
        "\n",
        "\n",
        "## Contents\n",
        "\n",
        "This notebook contains the following parts:\n",
        "\n",
        "- [Setup](#setup)\n",
        "- [Foundation Models on watsonx](#models)\n",
        "- [Model testing](#predict)\n",
        "- [Summary](#summary)"
      ]
    },
    {
      "cell_type": "markdown",
      "metadata": {
        "pycharm": {
          "name": "#%% md\n"
        },
        "id": "Hh6h3kXQkl5n"
      },
      "source": [
        "<a id=\"setup\"></a>\n",
        "## Set up the environment\n",
        "\n",
        "Before you use the sample code in this notebook, you must perform the following setup tasks:\n",
        "\n",
        "-  Create a <a href=\"https://console.ng.bluemix.net/catalog/services/ibm-watson-machine-learning/\" target=\"_blank\" rel=\"noopener no referrer\">Watson Machine Learning (WML) Service</a> instance (a free plan is offered and information about how to create the instance can be found <a href=\"https://dataplatform.cloud.ibm.com/docs/content/wsj/analyze-data/ml-service-instance.html?context=analytics\" target=\"_blank\" rel=\"noopener no referrer\">here</a>).\n"
      ]
    },
    {
      "cell_type": "markdown",
      "metadata": {
        "pycharm": {
          "name": "#%% md\n"
        },
        "id": "svmNnEkNkl5o"
      },
      "source": [
        "### Install dependecies"
      ]
    },
    {
      "cell_type": "code",
      "execution_count": 1,
      "metadata": {
        "pycharm": {
          "name": "#%%\n"
        },
        "colab": {
          "base_uri": "https://localhost:8080/"
        },
        "id": "25xGtPhmkl5o",
        "outputId": "bc5b77eb-59af-4901-a62d-133c061dcd3f"
      },
      "outputs": [
        {
          "output_type": "stream",
          "name": "stdout",
          "text": [
            "Requirement already satisfied: six>=1.10.0 in /usr/local/lib/python3.11/dist-packages (from lomond->ibm-watson-machine-learning>=1.0.321) (1.17.0)\n"
          ]
        }
      ],
      "source": [
        "!pip install \"ibm-watson-machine-learning>=1.0.321\" | tail -n 1"
      ]
    },
    {
      "cell_type": "markdown",
      "metadata": {
        "id": "HeMG6avbkl5o"
      },
      "source": [
        "### Defining the WML credentials\n",
        "This cell defines the WML credentials required to work with watsonx Foundation Model inferencing.\n",
        "\n",
        "**Action:** Provide the IBM Cloud user API key. For details, see <a href=\"https://cloud.ibm.com/docs/account?topic=account-userapikey&interface=ui\" target=\"_blank\" rel=\"noopener no referrer\">documentation</a>."
      ]
    },
    {
      "cell_type": "code",
      "execution_count": 2,
      "metadata": {
        "colab": {
          "base_uri": "https://localhost:8080/"
        },
        "id": "6nkyMH8qkl5p",
        "outputId": "7797e6a7-ed6b-4adb-cf23-e8f687cd9a0e"
      },
      "outputs": [
        {
          "name": "stdout",
          "output_type": "stream",
          "text": [
            "Please enter your WML api key (hit enter): ··········\n"
          ]
        }
      ],
      "source": [
        "import getpass\n",
        "\n",
        "credentials = {\n",
        "    \"url\": \"https://us-south.ml.cloud.ibm.com\",\n",
        "    \"apikey\": getpass.getpass(\"Please enter your WML api key (hit enter): \")\n",
        "}"
      ]
    },
    {
      "cell_type": "markdown",
      "metadata": {
        "id": "pels-OUekl5p"
      },
      "source": [
        "### Defining the project id\n",
        "The Foundation Model requires project id that provides the context for the call. We will obtain the id from the project in which this notebook runs. Otherwise, please provide the project id."
      ]
    },
    {
      "cell_type": "code",
      "execution_count": 3,
      "metadata": {
        "colab": {
          "base_uri": "https://localhost:8080/"
        },
        "id": "EqRhOiiykl5p",
        "outputId": "032d717d-9ea5-4c0a-bf8e-9f5781bf80d5"
      },
      "outputs": [
        {
          "name": "stdout",
          "output_type": "stream",
          "text": [
            "Please enter your project_id (hit enter): 4ba78f22-c78e-4e28-88d1-e7738a18dcdd\n"
          ]
        }
      ],
      "source": [
        "import os\n",
        "\n",
        "try:\n",
        "    project_id = os.environ[\"PROJECT_ID\"]\n",
        "except KeyError:\n",
        "    project_id = input(\"Please enter your project_id (hit enter): \")"
      ]
    },
    {
      "cell_type": "markdown",
      "metadata": {
        "id": "EvE6do3Zkl5p"
      },
      "source": [
        "<a id=\"models\"></a>\n",
        "## Foundation Models on `watsonx.ai`"
      ]
    },
    {
      "cell_type": "markdown",
      "metadata": {
        "id": "C188j3rukl5q"
      },
      "source": [
        "#### List available models\n",
        "\n",
        "All avaliable models are presented under ModelTypes class.\n",
        "For more information refer to <a href=\"https://ibm.github.io/watson-machine-learning-sdk/model.html#ibm_watson_machine_learning.foundation_models.utils.enums.ModelTypes\" target=\"_blank\" rel=\"noopener no referrer\">documentation</a>."
      ]
    },
    {
      "cell_type": "code",
      "execution_count": 4,
      "metadata": {
        "colab": {
          "base_uri": "https://localhost:8080/"
        },
        "id": "TTDCsM7Lkl5q",
        "outputId": "bb895903-557b-43cb-debb-526c1bfaec2b"
      },
      "outputs": [
        {
          "output_type": "stream",
          "name": "stdout",
          "text": [
            "['FLAN_T5_XXL', 'FLAN_UL2', 'MT0_XXL', 'GPT_NEOX', 'MPT_7B_INSTRUCT2', 'STARCODER', 'LLAMA_2_70B_CHAT', 'LLAMA_2_13B_CHAT', 'GRANITE_13B_INSTRUCT', 'GRANITE_13B_CHAT', 'FLAN_T5_XL', 'GRANITE_13B_CHAT_V2', 'GRANITE_13B_INSTRUCT_V2', 'ELYZA_JAPANESE_LLAMA_2_7B_INSTRUCT', 'MIXTRAL_8X7B_INSTRUCT_V01_Q', 'CODELLAMA_34B_INSTRUCT_HF', 'GRANITE_20B_MULTILINGUAL']\n"
          ]
        }
      ],
      "source": [
        "from ibm_watson_machine_learning.foundation_models.utils.enums import ModelTypes\n",
        "\n",
        "print([model.name for model in ModelTypes])"
      ]
    },
    {
      "cell_type": "markdown",
      "metadata": {
        "id": "NZ_n7iBfkl5q"
      },
      "source": [
        "You need to specify `model_id` that will be used for inferencing:"
      ]
    },
    {
      "cell_type": "code",
      "execution_count": 8,
      "metadata": {
        "id": "4Nfq_6rIkl5r"
      },
      "outputs": [],
      "source": [
        "model_id = ModelTypes.LLAMA_2_13B_CHAT"
      ]
    },
    {
      "cell_type": "markdown",
      "metadata": {
        "id": "1F5iA-0Ukl5r"
      },
      "source": [
        "### Defining the model parameters\n",
        "\n",
        "You might need to adjust model `parameters` for different models or tasks, to do so please refer to <a href=\"https://ibm.github.io/watson-machine-learning-sdk/model.html#metanames.GenTextParamsMetaNames\" target=\"_blank\" rel=\"noopener no referrer\">documentation</a>."
      ]
    },
    {
      "cell_type": "code",
      "execution_count": 6,
      "metadata": {
        "id": "7EeIVH_Zkl5r"
      },
      "outputs": [],
      "source": [
        "from ibm_watson_machine_learning.metanames import GenTextParamsMetaNames as GenParams\n",
        "\n",
        "parameters = {\n",
        "    GenParams.DECODING_METHOD: \"greedy\",\n",
        "    GenParams.MAX_NEW_TOKENS: 100,\n",
        "    GenParams.STOP_SEQUENCES: [\"\\n\\n\"]\n",
        "}"
      ]
    },
    {
      "cell_type": "markdown",
      "metadata": {
        "id": "UWA9Aq_Ekl5r"
      },
      "source": [
        "### Initialize the model\n",
        "Initialize the `Model` class with previous set params."
      ]
    },
    {
      "cell_type": "code",
      "execution_count": 9,
      "metadata": {
        "id": "yQYwHHDkkl5r",
        "colab": {
          "base_uri": "https://localhost:8080/"
        },
        "outputId": "c6e39dc0-fc0c-41c1-e3fe-d9f7c941d5d9"
      },
      "outputs": [
        {
          "output_type": "stream",
          "name": "stderr",
          "text": [
            "/usr/local/lib/python3.11/dist-packages/ibm_watson_machine_learning/foundation_models/utils/utils.py:273: LifecycleWarning: Model 'meta-llama/llama-2-13b-chat' is in deprecated state from 2024-08-26 until None. IDs of alternative models: None. Further details: https://dataplatform.cloud.ibm.com/docs/content/wsj/analyze-data/fm-model-lifecycle.html?context=wx&audience=wdp\n",
            "  warnings.warn(default_warning_template.format(\n"
          ]
        }
      ],
      "source": [
        "from ibm_watson_machine_learning.foundation_models import Model\n",
        "\n",
        "model = Model(\n",
        "    model_id=model_id,\n",
        "    params=parameters,\n",
        "    credentials=credentials,\n",
        "    project_id=project_id)"
      ]
    },
    {
      "cell_type": "markdown",
      "metadata": {
        "id": "yR1FBydokl5s"
      },
      "source": [
        "### Model's details"
      ]
    },
    {
      "cell_type": "code",
      "execution_count": 10,
      "metadata": {
        "colab": {
          "base_uri": "https://localhost:8080/"
        },
        "id": "sMl3DLoskl5s",
        "outputId": "84857109-ccb4-411d-ec58-2b26210196b4"
      },
      "outputs": [
        {
          "output_type": "execute_result",
          "data": {
            "text/plain": [
              "{'model_id': 'meta-llama/llama-2-13b-chat',\n",
              " 'label': 'llama-2-13b-chat',\n",
              " 'provider': 'Meta',\n",
              " 'source': 'Hugging Face',\n",
              " 'functions': [{'id': 'prompt_tune_inferable'},\n",
              "  {'id': 'prompt_tune_trainable'},\n",
              "  {'id': 'text_generation'}],\n",
              " 'short_description': 'Llama-2-13b-chat is an auto-regressive language model that uses an optimized transformer architecture.',\n",
              " 'long_description': 'Llama-2-13b-chat is a pretrained and fine-tuned generative text model with 13 billion parameters, optimized for dialogue use cases.',\n",
              " 'input_tier': 'class_1',\n",
              " 'output_tier': 'class_1',\n",
              " 'number_params': '13b',\n",
              " 'min_shot_size': 1,\n",
              " 'task_ids': ['question_answering',\n",
              "  'summarization',\n",
              "  'retrieval_augmented_generation',\n",
              "  'classification',\n",
              "  'generation',\n",
              "  'code',\n",
              "  'extraction'],\n",
              " 'tasks': [{'id': 'question_answering', 'ratings': {'quality': 4}},\n",
              "  {'id': 'summarization',\n",
              "   'ratings': {'quality': 3},\n",
              "   'tags': ['function_prompt_tune_trainable']},\n",
              "  {'id': 'retrieval_augmented_generation', 'ratings': {'quality': 4}},\n",
              "  {'id': 'classification',\n",
              "   'ratings': {'quality': 4},\n",
              "   'tags': ['function_prompt_tune_trainable']},\n",
              "  {'id': 'generation', 'tags': ['function_prompt_tune_trainable']},\n",
              "  {'id': 'code'},\n",
              "  {'id': 'extraction', 'ratings': {'quality': 4}}],\n",
              " 'model_limits': {'max_sequence_length': 4096,\n",
              "  'max_output_tokens': 4095,\n",
              "  'training_data_max_records': 10000},\n",
              " 'limits': {'lite': {'call_time': '5m0s', 'max_output_tokens': 4095},\n",
              "  'v2-professional': {'call_time': '10m0s', 'max_output_tokens': 4095},\n",
              "  'v2-standard': {'call_time': '10m0s', 'max_output_tokens': 4095}},\n",
              " 'lifecycle': [{'id': 'available', 'start_date': '2023-11-09'},\n",
              "  {'id': 'deprecated', 'start_date': '2024-08-26'}],\n",
              " 'training_parameters': {'init_method': {'supported': ['random', 'text'],\n",
              "   'default': 'random'},\n",
              "  'init_text': {'default': 'text'},\n",
              "  'num_virtual_tokens': {'supported': [20, 50, 100], 'default': 100},\n",
              "  'num_epochs': {'default': 20, 'min': 1, 'max': 50},\n",
              "  'verbalizer': {'default': '{{input}}'},\n",
              "  'batch_size': {'default': 8, 'min': 1, 'max': 16},\n",
              "  'max_input_tokens': {'default': 256, 'min': 1, 'max': 1024},\n",
              "  'max_output_tokens': {'default': 128, 'min': 1, 'max': 512},\n",
              "  'torch_dtype': {'default': 'bfloat16'},\n",
              "  'accumulate_steps': {'default': 16, 'min': 1, 'max': 128},\n",
              "  'learning_rate': {'default': 0.002, 'min': 1e-05, 'max': 0.5}}}"
            ]
          },
          "metadata": {},
          "execution_count": 10
        }
      ],
      "source": [
        "model.get_details()"
      ]
    },
    {
      "cell_type": "markdown",
      "metadata": {
        "id": "0RNpNa_lkl5s"
      },
      "source": [
        "<a id=\"predict\"></a>\n",
        "## Answer the question about provided article"
      ]
    },
    {
      "cell_type": "markdown",
      "metadata": {
        "id": "AVKZ4IXdkl5s"
      },
      "source": [
        "Define instructions for the model with few-shot example."
      ]
    },
    {
      "cell_type": "code",
      "execution_count": 11,
      "metadata": {
        "id": "wtub0gJvkl5s"
      },
      "outputs": [],
      "source": [
        "instruction = \"\"\"\n",
        "Answer the following question using only information from the article. If there is no good answer in the article, say \"I don't know\".\n",
        "\n",
        "Article:\n",
        "###\n",
        "Tomatoes are one of the most popular plants for vegetable gardens. Tip for success: If you select varieties that are resistant to disease and pests, growing tomatoes can be quite easy. For experienced gardeners looking for a challenge, there are endless heirloom and specialty varieties to cultivate. Tomato plants come in a range of sizes. There are varieties that stay very small, less than 12 inches, and grow well in a pot or hanging basket on a balcony or patio. Some grow into bushes that are a few feet high and wide, and can be grown is larger containers. Other varieties grow into huge bushes that are several feet wide and high in a planter or garden bed. Still other varieties grow as long vines, six feet or more, and love to climb trellises. Tomato plants do best in full sun. You need to water tomatoes deeply and often. Using mulch prevents soil-borne disease from splashing up onto the fruit when you water. Pruning suckers and even pinching the tips will encourage the plant to put all its energy into producing fruit.\n",
        "###\n",
        "\n",
        "Question: Is growing tomatoes easy?\n",
        "Answer: Yes, if you select varieties that are resistant to disease and pests.\n",
        "\n",
        "Question: What varieties of tomatoes are there?\n",
        "Answer: There are endless heirloom and specialty varieties.\n",
        "\"\"\"\n"
      ]
    },
    {
      "cell_type": "markdown",
      "metadata": {
        "id": "ghNbQXuOkl5s"
      },
      "source": [
        "Prepare question for the model."
      ]
    },
    {
      "cell_type": "code",
      "execution_count": 12,
      "metadata": {
        "scrolled": true,
        "id": "25MZIx1Nkl5s"
      },
      "outputs": [],
      "source": [
        "question = \"Question: Why should you use mulch when growing tomatoes?\""
      ]
    },
    {
      "cell_type": "markdown",
      "metadata": {
        "id": "DmltNwWSkl5t"
      },
      "source": [
        "### Answer the question using Meta `llama-2-70b-chat` model.\n"
      ]
    },
    {
      "cell_type": "markdown",
      "metadata": {
        "id": "be8TJzJYkl5t"
      },
      "source": [
        "Inter the model to answer the question, according to provided instruction."
      ]
    },
    {
      "cell_type": "code",
      "execution_count": 13,
      "metadata": {
        "id": "H6WiC-O3kl5t"
      },
      "outputs": [],
      "source": [
        "result = model.generate_text(\" \".join([instruction, question]))"
      ]
    },
    {
      "cell_type": "markdown",
      "metadata": {
        "id": "70-owo3ukl5t"
      },
      "source": [
        "Explore model output."
      ]
    },
    {
      "cell_type": "code",
      "execution_count": 14,
      "metadata": {
        "scrolled": false,
        "colab": {
          "base_uri": "https://localhost:8080/"
        },
        "id": "CzH0vZBlkl5t",
        "outputId": "8fef935e-9d85-4b65-969e-b7d166e5f3dc"
      },
      "outputs": [
        {
          "output_type": "stream",
          "name": "stdout",
          "text": [
            "\n",
            "Answer: To prevent soil-borne disease from splashing up onto the fruit when you water.\n",
            "\n",
            "\n"
          ]
        }
      ],
      "source": [
        "print(result)"
      ]
    },
    {
      "cell_type": "markdown",
      "metadata": {
        "pycharm": {
          "name": "#%% md\n"
        },
        "id": "u-ofHa5Akl5t"
      },
      "source": [
        "<a id=\"summary\"></a>\n",
        "## Summary and next steps\n",
        "\n",
        " You successfully completed this notebook!.\n",
        "\n",
        " You learned how to answer questions about body of text with Meta's `llama-2-70b-chat` on watsonx.\n",
        "\n",
        " Check out our _<a href=\"https://ibm.github.io/watson-machine-learning-sdk/samples.html\" target=\"_blank\" rel=\"noopener no referrer\">Online Documentation</a>_ for more samples, tutorials, documentation, how-tos, and blog posts."
      ]
    },
    {
      "cell_type": "markdown",
      "metadata": {
        "pycharm": {
          "name": "#%% md\n"
        },
        "id": "elnBS_IZkl5t"
      },
      "source": [
        "### Authors\n",
        "\n",
        "**Daniel Ryszka**, watsonx.ai & Watson Machine Learning."
      ]
    },
    {
      "cell_type": "markdown",
      "metadata": {
        "pycharm": {
          "name": "#%% md\n"
        },
        "id": "HWcc0w8Fkl5t"
      },
      "source": [
        "Copyright © 2023 IBM. This notebook and its source code are released under the terms of the MIT License."
      ]
    }
  ],
  "metadata": {
    "kernelspec": {
      "display_name": "Python 3 (ipykernel)",
      "language": "python",
      "name": "python3"
    },
    "language_info": {
      "codemirror_mode": {
        "name": "ipython",
        "version": 3
      },
      "file_extension": ".py",
      "mimetype": "text/x-python",
      "name": "python",
      "nbconvert_exporter": "python",
      "pygments_lexer": "ipython3",
      "version": "3.10.12"
    },
    "colab": {
      "provenance": []
    }
  },
  "nbformat": 4,
  "nbformat_minor": 0
}